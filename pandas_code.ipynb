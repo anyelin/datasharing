import pandas as pd

# -- read file
df  = pd.read_csv('export_event_17_19.csv')
df.head()
